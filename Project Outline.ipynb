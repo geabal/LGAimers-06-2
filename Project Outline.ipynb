{
 "cells": [
  {
   "cell_type": "markdown",
   "metadata": {},
   "source": [
    "# LG Aimers 6기  \n",
    "\n",
    "## 난임 환자 대상 임신 성공 여부 예측 AI 온라인 해커톤  \n",
    "\n",
    "- 데이콘 링크: https://dacon.io/competitions/official/236452/overview/description \n",
    "  \n",
    "  \n",
    "<b>[주제]</b>  \n",
    "  \n",
    "난임 환자 대상 임신 성공 여부 예측 AI모델 개발  \n",
    "  \n",
    "<b>[설명]</b>  \n",
    "  \n",
    "난임 환자 데이터를 분석하여 임신 성공에 영향을 미치는 주요 요인을 도출하고, 정확한 예측을 위한 최적의 AI 모델을 개발해야 합니다.  \n",
    "\n",
    "※ 임신 성공: 출산까지 성공적으로 진행된 임신"
   ]
  },
  {
   "cell_type": "markdown",
   "metadata": {},
   "source": [
    "<b>[참고 링크]</b>  \n",
    "  \n",
    "- git bash, repository 연동: https://transferhwang.tistory.com/160  \n",
    "- 참고 논문: https://www.nature.com/articles/s41598-020-76928-z  \n"
   ]
  },
  {
   "cell_type": "code",
   "execution_count": null,
   "metadata": {},
   "outputs": [],
   "source": []
  }
 ],
 "metadata": {
  "kernelspec": {
   "display_name": "Python 3",
   "language": "python",
   "name": "python3"
  },
  "language_info": {
   "codemirror_mode": {
    "name": "ipython",
    "version": 3
   },
   "file_extension": ".py",
   "mimetype": "text/x-python",
   "name": "python",
   "nbconvert_exporter": "python",
   "pygments_lexer": "ipython3",
   "version": "3.8.5"
  }
 },
 "nbformat": 4,
 "nbformat_minor": 4
}
